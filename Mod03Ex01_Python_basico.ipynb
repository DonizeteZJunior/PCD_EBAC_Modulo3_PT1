{
  "cells": [
    {
      "cell_type": "markdown",
      "metadata": {
        "id": "MFjFbuZ4fsYX"
      },
      "source": [
        "### 01 - Teste de gravidez\n",
        "Escreva uma célula com controle de fluxos que tem como premissa a existência das seguintes variáveis:\n",
        "\n",
        "- ```sexo``` como ```str``` indicando os valores '**M**' para masculino e '**F**' para feminino  \n",
        "- ```beta_hcg``` que indica a quantidade do beta-HCG no sangue em mUI/mL.\n",
        "\n",
        "A sua tarefa é escrever um código que imprima como resultado \"indivíduo do sexo masculino\" quando sexo = 'M', caso sexo = 'F', se o valor de beta-HCG for maior que 5, retorne \"Positivo\" indicando que a paciente está grávida, e retorne \"Negativo\" caso contrário.\n",
        "\n",
        "Não mexa nos valores da variável ```sexo``` nem em ```beta_hcg```, e escreva um código que funcione para quaisquer valores possíveis de ambos: ```sexo``` = '**M**' ou '**F**' e ```beta_hcg``` assumindo valores inteiros positivos."
      ]
    },
    {
      "cell_type": "code",
      "execution_count": null,
      "metadata": {
        "colab": {
          "base_uri": "https://localhost:8080/"
        },
        "id": "puXEzkVyfsYZ",
        "outputId": "a97392d8-9be3-4d4f-9b11-a5db868b3d72"
      },
      "outputs": [
        {
          "output_type": "stream",
          "name": "stdout",
          "text": [
            "individuo do sexo masculino\n",
            "Negativo\n"
          ]
        }
      ],
      "source": [
        "sexo = 'M'\n",
        "beta_hcg = 0\n",
        "\n",
        "# seu código vem abaixo desta linha\n",
        "if (sexo == 'F'):\n",
        "    print('individuo do sexo feminino')\n",
        "elif(sexo == 'M'):\n",
        "    print('individuo do sexo masculino')\n",
        "\n",
        "if (beta_hcg > 5):\n",
        "    print('Positivo')\n",
        "else:\n",
        "    print('Negativo')"
      ]
    },
    {
      "cell_type": "markdown",
      "metadata": {
        "id": "Nb_zxO_4fsYa"
      },
      "source": [
        "### 02 - Renomeando variáveis\n",
        "\n",
        "Vamos ver adiante que uma forma de renomear variáveis de um conjunto de dados é através de dicionários - o dicionário deve conter como chave o nome original, associando a cada chave um único valor (tipo *str*) que contenha o nome novo.\n",
        "\n",
        "A sua tarefa é escrever um dicionário que possa ser utilizado para traduzir as variáveis ```name``` (nome), ```age``` (idade) e ```income``` (renda). Ou seja, esse dicionário deve relacionar as chaves *name, age* e *income* às suas respectivas traduções."
      ]
    },
    {
      "cell_type": "code",
      "execution_count": null,
      "metadata": {
        "colab": {
          "base_uri": "https://localhost:8080/"
        },
        "id": "zisTuE98fsYb",
        "outputId": "799a8540-e7ae-456f-c06f-e3802471df3c"
      },
      "outputs": [
        {
          "output_type": "execute_result",
          "data": {
            "text/plain": [
              "{'name': 'nome', 'age': 'idade', 'income': 'renda'}"
            ]
          },
          "metadata": {},
          "execution_count": 4
        }
      ],
      "source": [
        "dic_renomeacao = {'name': 'nome', 'age':'idade','income':'renda'}\n",
        "dic_renomeacao"
      ]
    },
    {
      "cell_type": "markdown",
      "metadata": {
        "id": "_3k67YoYfsYc"
      },
      "source": [
        "### 03 - É divisível?\n",
        "A sua tarefa é escrever um código que indique se um número ```N``` é divisível por um número P. Escreva um programa que faça essa verificação para quaisquer combinações de ```N``` e ```M``` e devolva uma mensagem indicativa no output."
      ]
    },
    {
      "cell_type": "code",
      "execution_count": null,
      "metadata": {
        "colab": {
          "base_uri": "https://localhost:8080/"
        },
        "id": "bMWRsRrWfsYc",
        "outputId": "9b2dfbf5-d75b-49e3-8f06-959c582082e9"
      },
      "outputs": [
        {
          "output_type": "stream",
          "name": "stdout",
          "text": [
            "Não é permitida a divisão por 0.\n"
          ]
        }
      ],
      "source": [
        "N = 42\n",
        "M = 7\n",
        "\n",
        "#Seu código\n",
        "\n",
        "try:\n",
        "    if(N/M):\n",
        "        print('É divisivel.')\n",
        "    else:\n",
        "        print('Não é divisivel.')\n",
        "except ZeroDivisionError:\n",
        "    print('Não é permitida a divisão por 0.')"
      ]
    },
    {
      "cell_type": "markdown",
      "metadata": {
        "id": "GSola8SDfsYc"
      },
      "source": [
        "### 04 - Números primos\n",
        "> Um número **N** é primo se e somente se é divisível por 1, -1, por **N** e por -**N**.  \n",
        "\n",
        "Escreva um script que verifica se ```N``` é um número primo, verificando se ```N``` é divisível por todos os números de ```1``` a ```N-1```. Você vai precisar usar alguma ferramenta de *loop* que você aprendeu para isto. No final, devolva uma mensagem no output indicando se o número é primo ou não."
      ]
    },
    {
      "cell_type": "code",
      "execution_count": null,
      "metadata": {
        "colab": {
          "base_uri": "https://localhost:8080/"
        },
        "id": "Vh_fDJ76fsYd",
        "outputId": "b2f8e19c-fc2a-462e-af2b-75012e741945"
      },
      "outputs": [
        {
          "output_type": "stream",
          "name": "stdout",
          "text": [
            "O número não é primo.\n"
          ]
        }
      ],
      "source": [
        "N = 47\n",
        "\n",
        "# seu código abaixo\n",
        "divisor = 1\n",
        "primo = 0\n",
        "while divisor < N:\n",
        "    resto = N%divisor\n",
        "    if(resto == 0):\n",
        "      primo += 1\n",
        "    divisor += 1\n",
        "\n",
        "if (primo > 1):\n",
        "    print('O número não é primo.')\n",
        "else:\n",
        "    print('O número é primo.')"
      ]
    },
    {
      "cell_type": "markdown",
      "metadata": {
        "id": "odcd8KYUfsYd"
      },
      "source": [
        "### 05 - Desafio\n",
        "O algorítmo do exercício anterior não é o mais eficiente. O que você pode fazer para deixá-lo mais eficiente? Ou seja, executar menos comparações, portanto consumir menos tempo.\n",
        "1. Será que precisamos correr o loop até o final sempre?\n",
        "2. Será que precisamos mesmo verificar **todos** os números?\n",
        "3. Será que precisamos ir até N-1?\n",
        "\n",
        "Essas perguntas levam ao tipo de pensamento voltado a deixar um algoritmo mais eficiente. Veja se você consegue melhorar o seu."
      ]
    },
    {
      "cell_type": "code",
      "execution_count": null,
      "metadata": {
        "colab": {
          "base_uri": "https://localhost:8080/"
        },
        "id": "KbZ-dEGtfsYd",
        "outputId": "aa1f7cda-0f68-4412-d80b-b40e9dd161fa"
      },
      "outputs": [
        {
          "output_type": "stream",
          "name": "stdout",
          "text": [
            "O número não é primo.\n"
          ]
        }
      ],
      "source": [
        "N = 98\n",
        "\n",
        "# seu código aqui\n",
        "# seu código aqui\n",
        "divisor = 2\n",
        "primo = True\n",
        "while divisor < N:\n",
        "    resto = N%divisor\n",
        "    if((resto == 0) & (divisor != 1)):\n",
        "      primo = False\n",
        "      break;\n",
        "    divisor += 1\n",
        "\n",
        "if (primo):\n",
        "    print('O número é primo.')\n",
        "else:\n",
        "    print('O número não é primo.')"
      ]
    },
    {
      "cell_type": "markdown",
      "metadata": {
        "id": "nTwFsFB6fsYd"
      },
      "source": [
        "### 06 - Peso ideal 1\n",
        "O IMC (índice de massa corpórea) é um indicador de saúde mais bem aceito que o peso. Ele é calculado como:\n",
        "\n",
        "$$ IMC = \\dfrac{peso}{altura^2}$$\n",
        "\n",
        "Segundo a OMS, valores *normais* são entre 18.5 e 24.9.\n",
        "\n",
        "Sua tarefa é encontrar o ponto médio dessa faixa."
      ]
    },
    {
      "cell_type": "code",
      "execution_count": null,
      "metadata": {
        "colab": {
          "base_uri": "https://localhost:8080/"
        },
        "id": "z6Q_Nka9fsYe",
        "outputId": "126164a9-6ee7-4783-e4a6-57c3531b7847"
      },
      "outputs": [
        {
          "output_type": "execute_result",
          "data": {
            "text/plain": [
              "21.7"
            ]
          },
          "metadata": {},
          "execution_count": 34
        }
      ],
      "source": [
        "imc_ideal = (18.5 + 24.9)/2\n",
        "imc_ideal"
      ]
    },
    {
      "cell_type": "markdown",
      "metadata": {
        "id": "IZO8t-qtfsYe"
      },
      "source": [
        "### 07 - Peso ideal 2\n",
        "Recebendo um valor de altura, encontre o peso '*ideal*' dessa pessoa, que fornece o IMC encontrado acima"
      ]
    },
    {
      "cell_type": "code",
      "execution_count": null,
      "metadata": {
        "colab": {
          "base_uri": "https://localhost:8080/"
        },
        "id": "ga0CGwzJfsYe",
        "outputId": "ae8fee6e-948e-4eee-85cb-707dd31f05c8"
      },
      "outputs": [
        {
          "output_type": "execute_result",
          "data": {
            "text/plain": [
              "62.71"
            ]
          },
          "metadata": {},
          "execution_count": 56
        }
      ],
      "source": [
        "altura = 1.70\n",
        "\n",
        "# Seu código\n",
        "peso_ideal = round(imc_ideal * (altura ** 2),2)\n",
        "peso_ideal"
      ]
    },
    {
      "cell_type": "markdown",
      "metadata": {
        "id": "YesId5brfsYe"
      },
      "source": [
        "### 08 - Peso ideal 3\n",
        "Dada uma lista contendo as alturas de pacientes, crie uma nova lista que contenha o peso '*ideal*' (que fornece o IMC calculado em **Peso ideal 1**) desses pacientes."
      ]
    },
    {
      "cell_type": "code",
      "execution_count": null,
      "metadata": {
        "colab": {
          "base_uri": "https://localhost:8080/"
        },
        "id": "-eKVM6a_fsYf",
        "outputId": "910a5d50-061a-4e7c-fcde-ba2f70095db0"
      },
      "outputs": [
        {
          "output_type": "execute_result",
          "data": {
            "text/plain": [
              "[82.51, 91.19, 62.71, 59.08]"
            ]
          },
          "metadata": {},
          "execution_count": 58
        }
      ],
      "source": [
        "lista_alturas = [1.95, 2.05, 1.70, 1.65]\n",
        "\n",
        "lista_peso_ideal = []\n",
        "\n",
        "# seu código\n",
        "for altura in lista_alturas:\n",
        "    peso_ideal = round(imc_ideal * (altura ** 2),2)\n",
        "    lista_peso_ideal.append(peso_ideal)\n",
        "\n",
        "lista_peso_ideal"
      ]
    },
    {
      "cell_type": "markdown",
      "metadata": {
        "id": "aLTLj8sLfsYf"
      },
      "source": [
        "### 09 - Peso ideal 4\n",
        "Dada uma lista de tuplas - cada elemento da lista é uma tupla contendo altura e peso de um paciente - crie uma nova lista com o IMC desses pacientes."
      ]
    },
    {
      "cell_type": "code",
      "execution_count": 67,
      "metadata": {
        "colab": {
          "base_uri": "https://localhost:8080/"
        },
        "id": "GOdsoazjfsYf",
        "outputId": "a515ba7d-f5df-453e-cd14-e2a6440608b2"
      },
      "outputs": [
        {
          "output_type": "execute_result",
          "data": {
            "text/plain": [
              "[27.8, 27.5, 19.2]"
            ]
          },
          "metadata": {},
          "execution_count": 67
        }
      ],
      "source": [
        "altura_peso = [(1.80, 90), (1.65, 75), (1.91, 70)]\n",
        "\n",
        "imc = []\n",
        "\n",
        "# seu código\n",
        "for altura, peso in altura_peso:\n",
        "    calculo_imc = round(peso /(altura ** 2),1)\n",
        "    imc.append(calculo_imc)\n",
        "imc"
      ]
    },
    {
      "cell_type": "markdown",
      "metadata": {
        "id": "0yw3owetfsYf"
      },
      "source": [
        "### 10 - Peso ideal 5\n",
        "Dada uma lista de **listas** - cada elemento da lista é uma **lista** contendo altura e peso de um paciente, adicione mais um elemento à lista de cada paciente contendo o IMC do paciente. Verifique também se é 'baixo', 'normal' ou 'alto' segundo os padrões da OMS em que normal é entre 18.5 e 24.9.\n",
        "\n",
        "Reflexão: por que no problema anterior temos que criar uma nova lista, e não podemos adicionar os dados de cada indivíduo à tupla?"
      ]
    },
    {
      "cell_type": "code",
      "execution_count": 82,
      "metadata": {
        "id": "ee510Lz9fsYf",
        "outputId": "3d57fa26-e330-4b6a-a291-48ab57d704a3",
        "colab": {
          "base_uri": "https://localhost:8080/"
        }
      },
      "outputs": [
        {
          "output_type": "execute_result",
          "data": {
            "text/plain": [
              "[[1.8, 90, 27.777777777777775, 'alto'],\n",
              " [1.65, 75, 27.548209366391188, 'alto'],\n",
              " [1.91, 70, 19.188070502453332, 'normal']]"
            ]
          },
          "metadata": {},
          "execution_count": 82
        }
      ],
      "source": [
        "altura_peso = [[1.80, 90], [1.65, 75], [1.91, 70]]\n",
        "\n",
        "# seu código\n",
        "indice = 0\n",
        "for altura, peso in list(altura_peso):\n",
        "    calculo_imc = peso /(altura ** 2)\n",
        "    if (calculo_imc >= 18.5) & (calculo_imc <= 24.9):\n",
        "       altura_peso[indice].append(calculo_imc)\n",
        "       altura_peso[indice].append('normal')\n",
        "    elif calculo_imc < 18.5:\n",
        "       altura_peso[indice].append(calculo_imc)\n",
        "       altura_peso[indice].append('baixo')\n",
        "    elif calculo_imc > 24.9:\n",
        "       altura_peso[indice].append(calculo_imc)\n",
        "       altura_peso[indice].append('alto')\n",
        "    indice += 1\n",
        "       \n",
        "altura_peso"
      ]
    },
    {
      "cell_type": "code",
      "source": [
        "[[1.8, 90, 27.777777777777775, 'alto'],\n",
        " [1.65, 75, 27.548209366391188, 'alto'],\n",
        " [1.91, 70, 19.188070502453332, 'normal']]"
      ],
      "metadata": {
        "id": "doNAdr2lDT0I"
      },
      "execution_count": null,
      "outputs": []
    }
  ],
  "metadata": {
    "kernelspec": {
      "display_name": "Python 3",
      "language": "python",
      "name": "python3"
    },
    "language_info": {
      "codemirror_mode": {
        "name": "ipython",
        "version": 3
      },
      "file_extension": ".py",
      "mimetype": "text/x-python",
      "name": "python",
      "nbconvert_exporter": "python",
      "pygments_lexer": "ipython3",
      "version": "3.8.5"
    },
    "colab": {
      "provenance": [],
      "collapsed_sections": []
    }
  },
  "nbformat": 4,
  "nbformat_minor": 0
}